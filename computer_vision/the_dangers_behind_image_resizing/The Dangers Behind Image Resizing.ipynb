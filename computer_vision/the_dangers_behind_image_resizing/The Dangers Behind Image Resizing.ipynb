{
 "cells": [
  {
   "attachments": {},
   "cell_type": "markdown",
   "metadata": {},
   "source": [
    "### Produce Synthetic Image"
   ]
  },
  {
   "cell_type": "code",
   "execution_count": 6,
   "metadata": {},
   "outputs": [],
   "source": [
    "from PIL import Image, ImageDraw\n",
    "import cv2"
   ]
  },
  {
   "cell_type": "code",
   "execution_count": 4,
   "metadata": {},
   "outputs": [],
   "source": [
    "# Create an image with a white background\n",
    "image = Image.new('RGB', (128, 128), 'white')\n",
    "\n",
    "# Get a drawing context\n",
    "draw = ImageDraw.Draw(image)\n",
    "\n",
    "# Draw an outlined circle\n",
    "x, y = 64, 64\n",
    "radius = 50\n",
    "draw.ellipse((x-radius, y-radius, x+radius, y+radius), outline='black')\n",
    "\n",
    "# Save the image\n",
    "image.save('circle.png')\n"
   ]
  },
  {
   "attachments": {},
   "cell_type": "markdown",
   "metadata": {},
   "source": [
    "### PIL Downscaling"
   ]
  },
  {
   "cell_type": "code",
   "execution_count": 18,
   "metadata": {},
   "outputs": [],
   "source": [
    "image = Image.open('circle.png')\n",
    "\n",
    "image = image.resize((32, 32), Image.Resampling.LANCZOS)\n",
    "\n",
    "image.save('PIL_LANCZOS_Downscaling.png')"
   ]
  },
  {
   "attachments": {},
   "cell_type": "markdown",
   "metadata": {},
   "source": [
    "### OpenCV Downscaling"
   ]
  },
  {
   "cell_type": "code",
   "execution_count": 23,
   "metadata": {},
   "outputs": [
    {
     "data": {
      "text/plain": [
       "True"
      ]
     },
     "execution_count": 23,
     "metadata": {},
     "output_type": "execute_result"
    }
   ],
   "source": [
    "image = cv2.imread('circle.png')\n",
    "\n",
    "image = cv2.resize(image, None, fx= 0.25, fy= 0.25, interpolation= cv2.INTER_LANCZOS4)\n",
    "\n",
    "cv2.imwrite('OpenCV_LANCZOS4_Downscaling.png', image)"
   ]
  },
  {
   "attachments": {},
   "cell_type": "markdown",
   "metadata": {},
   "source": [
    "### Tensorflow Downscaling"
   ]
  },
  {
   "cell_type": "code",
   "execution_count": 42,
   "metadata": {},
   "outputs": [],
   "source": [
    "import tensorflow as tf\n",
    "\n",
    "# Load the image and convert it to a tensor\n",
    "image = tf.io.read_file('circle.png')\n",
    "image = tf.image.decode_png(image)\n",
    "\n",
    "# Resize the image to a new size using nearest neighbor interpolation\n",
    "new_size = (32, 32)\n",
    "resized_image = tf.image.resize(image, new_size, antialias=False, method=tf.image.ResizeMethod.LANCZOS3)\n",
    "\n",
    "# convert resized_image dtype\n",
    "resized_image = tf.image.convert_image_dtype(resized_image, dtype=tf.uint8)\n",
    "\n",
    "# Encode the resized image as a JPEG file\n",
    "encoded_image = tf.image.encode_png(resized_image)\n",
    "\n",
    "# Save the encoded image to a new file\n",
    "tf.io.write_file('Tensorflow_LANCZOS3_Downscaling.png', encoded_image)"
   ]
  }
 ],
 "metadata": {
  "kernelspec": {
   "display_name": "ai",
   "language": "python",
   "name": "python3"
  },
  "language_info": {
   "codemirror_mode": {
    "name": "ipython",
    "version": 3
   },
   "file_extension": ".py",
   "mimetype": "text/x-python",
   "name": "python",
   "nbconvert_exporter": "python",
   "pygments_lexer": "ipython3",
   "version": "3.8.12 (default, Oct 12 2021, 03:01:40) [MSC v.1916 64 bit (AMD64)]"
  },
  "orig_nbformat": 4,
  "vscode": {
   "interpreter": {
    "hash": "4f601438d15f69daa4e58715138a9bb2a5bea56236a0363b00d0a0db626c6087"
   }
  }
 },
 "nbformat": 4,
 "nbformat_minor": 2
}
